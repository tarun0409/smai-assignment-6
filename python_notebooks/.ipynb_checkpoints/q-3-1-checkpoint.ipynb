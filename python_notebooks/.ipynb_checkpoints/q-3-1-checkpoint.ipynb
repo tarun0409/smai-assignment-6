{
 "cells": [
  {
   "cell_type": "code",
   "execution_count": 1,
   "metadata": {},
   "outputs": [],
   "source": [
    "import os\n",
    "import tensorflow as tf\n",
    "import numpy as np"
   ]
  },
  {
   "cell_type": "code",
   "execution_count": 2,
   "metadata": {},
   "outputs": [],
   "source": [
    "def convnet(X, conv_layer1_W, conv_layer2_W, conv_layer1_b, conv_layer2_b, dense_layer_W, dense_layer_b):\n",
    "\n",
    "    scores = None\n",
    "    conv_layer1_out = tf.nn.conv2d(X, conv_layer1_W, strides=[1,1,1,1], padding=\"SAME\")\n",
    "    conv_layer1_out += conv_layer1_b\n",
    "    relu_layer1_out = tf.nn.relu(conv_layer1_out)\n",
    "    \n",
    "    conv_layer2_out = tf.nn.conv2d(conv_layer1_out, conv_layer2_W, strides=[1,1,1,1], padding=\"SAME\")\n",
    "    conv_layer2_out += conv_layer2_b\n",
    "    relu_layer2_out = tf.nn.relu(conv_layer2_out)\n",
    "    \n",
    "    #flatten the output from ReLU layer\n",
    "    N = tf.shape(relu_layer2_out)[0]\n",
    "    relu_layer2_out = tf.reshape(relu_layer2_out, (N, -1))\n",
    "    output = tf.matmul(relu_layer2_out, dense_layer_W)\n",
    "    output += dense_layer_b\n",
    "    \n",
    "    return output"
   ]
  },
  {
   "cell_type": "code",
   "execution_count": 3,
   "metadata": {},
   "outputs": [
    {
     "name": "stdout",
     "output_type": "stream",
     "text": [
      "[[ 6523.275   -5256.213    6787.055    2751.9436   1455.2858  -2591.9775\n",
      "  -1523.165    2610.2705  -2155.9482   2935.1414 ]\n",
      " [ 6858.5205  -4974.477    4592.466    3885.8743   2574.2068  -3094.2827\n",
      "  -1812.1163    456.34952 -2276.5857    963.2257 ]\n",
      " [ 7973.764   -3820.0764   4311.7715   3733.07     2578.7793  -3156.0037\n",
      "  -1134.6034   2733.492   -1309.567    3148.733  ]\n",
      " [ 8264.375   -3705.1199   4850.1177   3325.4868   2129.8008  -2367.0054\n",
      "  -1074.4316   1570.2428  -1978.7842   2185.0654 ]\n",
      " [ 7691.1694  -4452.8457   4812.46     3596.2446   2141.1155  -3039.175\n",
      "   -311.98596  2786.037   -1913.9457   2460.3328 ]\n",
      " [ 6702.917   -3426.2673   3766.1099   3751.2751   1913.7511  -3226.0188\n",
      "  -3362.069    1944.1074  -2031.0663   2728.907  ]\n",
      " [ 7252.941   -4796.42     4114.8296   3793.0486   2448.7185  -2837.4165\n",
      "  -1439.1653   1794.3861  -2700.2705   3151.1138 ]\n",
      " [ 6218.59    -4225.151    4066.991    3815.6829   3084.8071  -4051.3604\n",
      "  -2787.3582   1732.6012  -2598.1003   1914.1896 ]\n",
      " [ 7714.651   -4242.0776   4249.8022   3484.7847    348.08383 -3651.2844\n",
      "  -2110.9326   1501.6083  -1480.2504   3576.7512 ]\n",
      " [ 7774.41    -3795.547    4956.2295   3059.9043    929.0091   -427.73343\n",
      "  -2583.1177   2219.1152  -1258.6971   3102.9846 ]]\n"
     ]
    }
   ],
   "source": [
    "X = tf.placeholder(tf.float32)\n",
    "conv_layer1_W = tf.random.normal((5, 5, 3, 6))\n",
    "conv_layer2_W = tf.random.normal((2, 2, 6, 9))\n",
    "conv_layer1_b = tf.random.normal((6,))\n",
    "conv_layer2_b = tf.random.normal((9,))\n",
    "dense_layer_W = tf.random.normal((32 * 32 * 9, 10))\n",
    "dense_layer_b = tf.random.normal((10,))\n",
    "scores = convnet(X, conv_layer1_W, conv_layer2_W, conv_layer1_b, conv_layer2_b, dense_layer_W, dense_layer_b)\n",
    "\n",
    "X_np = np.random.rand(10, 32, 32, 3)\n",
    "    \n",
    "with tf.Session() as sess:\n",
    "    sess.run(tf.global_variables_initializer())\n",
    "    scores_np = sess.run(scores, feed_dict={X: X_np})\n",
    "    print(scores_np)"
   ]
  },
  {
   "cell_type": "code",
   "execution_count": null,
   "metadata": {},
   "outputs": [],
   "source": []
  }
 ],
 "metadata": {
  "kernelspec": {
   "display_name": "Python 2",
   "language": "python",
   "name": "python2"
  },
  "language_info": {
   "codemirror_mode": {
    "name": "ipython",
    "version": 3
   },
   "file_extension": ".py",
   "mimetype": "text/x-python",
   "name": "python",
   "nbconvert_exporter": "python",
   "pygments_lexer": "ipython3",
   "version": "3.6.7"
  }
 },
 "nbformat": 4,
 "nbformat_minor": 2
}
