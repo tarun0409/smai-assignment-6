{
 "cells": [
  {
   "cell_type": "code",
   "execution_count": 1,
   "metadata": {
    "colab": {
     "base_uri": "https://localhost:8080/",
     "height": 34
    },
    "colab_type": "code",
    "id": "luwvv1NGpGTy",
    "outputId": "37092bda-7c1f-428b-ea0d-493ea316db78"
   },
   "outputs": [
    {
     "name": "stderr",
     "output_type": "stream",
     "text": [
      "Using TensorFlow backend.\n"
     ]
    }
   ],
   "source": [
    "from keras.datasets import cifar10\n",
    "from keras.utils import np_utils\n",
    "from keras.models import Sequential\n",
    "from keras.layers import Dense,Dropout,Activation,Flatten,Conv2D,MaxPooling2D\n",
    "from keras.optimizers import SGD, Adam, RMSprop\n",
    "import matplotlib.pyplot as plt"
   ]
  },
  {
   "cell_type": "code",
   "execution_count": 2,
   "metadata": {
    "colab": {
     "base_uri": "https://localhost:8080/",
     "height": 69
    },
    "colab_type": "code",
    "id": "OkpFSGCBrJYq",
    "outputId": "05dac5ee-7ed3-40bd-dd4e-428680a528f6"
   },
   "outputs": [
    {
     "name": "stdout",
     "output_type": "stream",
     "text": [
      "X_train shape:  (50000, 32, 32, 3)\n",
      "50000 train samples\n",
      "10000 test samples\n"
     ]
    }
   ],
   "source": [
    "(X_train,y_train),(X_test,y_test) = cifar10.load_data()\n",
    "print('X_train shape: ',X_train.shape)\n",
    "print(X_train.shape[0],'train samples')\n",
    "print(X_test.shape[0],'test samples')"
   ]
  },
  {
   "cell_type": "code",
   "execution_count": 0,
   "metadata": {
    "colab": {},
    "colab_type": "code",
    "id": "aWRKAetxryuN"
   },
   "outputs": [],
   "source": [
    "Y_train = np_utils.to_categorical(y_train,10)\n",
    "Y_test = np_utils.to_categorical(y_test,10)\n",
    "X_train = X_train.astype('float32')\n",
    "X_test = X_test.astype('float32')\n",
    "X_train /= 255\n",
    "X_test /= 255"
   ]
  },
  {
   "cell_type": "code",
   "execution_count": 4,
   "metadata": {
    "colab": {
     "base_uri": "https://localhost:8080/",
     "height": 923
    },
    "colab_type": "code",
    "id": "H1PyTaKSsQFY",
    "outputId": "ab4781d4-3bca-4d7b-a400-c7b9420bd521"
   },
   "outputs": [
    {
     "name": "stdout",
     "output_type": "stream",
     "text": [
      "WARNING:tensorflow:From /usr/local/lib/python3.6/dist-packages/tensorflow/python/framework/op_def_library.py:263: colocate_with (from tensorflow.python.framework.ops) is deprecated and will be removed in a future version.\n",
      "Instructions for updating:\n",
      "Colocations handled automatically by placer.\n",
      "WARNING:tensorflow:From /usr/local/lib/python3.6/dist-packages/keras/backend/tensorflow_backend.py:3445: calling dropout (from tensorflow.python.ops.nn_ops) with keep_prob is deprecated and will be removed in a future version.\n",
      "Instructions for updating:\n",
      "Please use `rate` instead of `keep_prob`. Rate should be set to `rate = 1 - keep_prob`.\n",
      "_________________________________________________________________\n",
      "Layer (type)                 Output Shape              Param #   \n",
      "=================================================================\n",
      "conv2d_1 (Conv2D)            (None, 32, 32, 32)        896       \n",
      "_________________________________________________________________\n",
      "activation_1 (Activation)    (None, 32, 32, 32)        0         \n",
      "_________________________________________________________________\n",
      "conv2d_2 (Conv2D)            (None, 32, 32, 32)        9248      \n",
      "_________________________________________________________________\n",
      "activation_2 (Activation)    (None, 32, 32, 32)        0         \n",
      "_________________________________________________________________\n",
      "max_pooling2d_1 (MaxPooling2 (None, 16, 16, 32)        0         \n",
      "_________________________________________________________________\n",
      "dropout_1 (Dropout)          (None, 16, 16, 32)        0         \n",
      "_________________________________________________________________\n",
      "conv2d_3 (Conv2D)            (None, 16, 16, 64)        18496     \n",
      "_________________________________________________________________\n",
      "activation_3 (Activation)    (None, 16, 16, 64)        0         \n",
      "_________________________________________________________________\n",
      "conv2d_4 (Conv2D)            (None, 14, 14, 64)        36928     \n",
      "_________________________________________________________________\n",
      "activation_4 (Activation)    (None, 14, 14, 64)        0         \n",
      "_________________________________________________________________\n",
      "max_pooling2d_2 (MaxPooling2 (None, 7, 7, 64)          0         \n",
      "_________________________________________________________________\n",
      "dropout_2 (Dropout)          (None, 7, 7, 64)          0         \n",
      "_________________________________________________________________\n",
      "flatten_1 (Flatten)          (None, 3136)              0         \n",
      "_________________________________________________________________\n",
      "dense_1 (Dense)              (None, 512)               1606144   \n",
      "_________________________________________________________________\n",
      "activation_5 (Activation)    (None, 512)               0         \n",
      "_________________________________________________________________\n",
      "dropout_3 (Dropout)          (None, 512)               0         \n",
      "_________________________________________________________________\n",
      "dense_2 (Dense)              (None, 10)                5130      \n",
      "_________________________________________________________________\n",
      "activation_6 (Activation)    (None, 10)                0         \n",
      "=================================================================\n",
      "Total params: 1,676,842\n",
      "Trainable params: 1,676,842\n",
      "Non-trainable params: 0\n",
      "_________________________________________________________________\n"
     ]
    },
    {
     "name": "stderr",
     "output_type": "stream",
     "text": [
      "/usr/local/lib/python3.6/dist-packages/ipykernel_launcher.py:10: UserWarning: Update your `Conv2D` call to the Keras 2 API: `Conv2D(64, (3, 3))`\n",
      "  # Remove the CWD from sys.path while we load stuff.\n"
     ]
    }
   ],
   "source": [
    "model = Sequential()\n",
    "model.add(Conv2D(32,(3,3),padding='same',input_shape=(32,32,3)))\n",
    "model.add(Activation('relu'))\n",
    "model.add(Conv2D(32,(3,3),padding='same'))\n",
    "model.add(Activation('relu'))\n",
    "model.add(MaxPooling2D(pool_size=(2,2)))\n",
    "model.add(Dropout(0.25))\n",
    "model.add(Conv2D(64,(3,3),padding='same'))\n",
    "model.add(Activation('relu'))\n",
    "model.add(Conv2D(64,3,3))\n",
    "model.add(Activation('relu'))\n",
    "model.add(MaxPooling2D(pool_size=(2,2)))\n",
    "model.add(Dropout(0.25))\n",
    "model.add(Flatten())\n",
    "model.add(Dense(512))\n",
    "model.add(Activation('relu'))\n",
    "model.add(Dropout(0.5))\n",
    "model.add(Dense(10))\n",
    "model.add(Activation('softmax'))\n",
    "model.summary()"
   ]
  },
  {
   "cell_type": "code",
   "execution_count": 5,
   "metadata": {
    "colab": {
     "base_uri": "https://localhost:8080/",
     "height": 1021
    },
    "colab_type": "code",
    "id": "s7-I8XtltqCS",
    "outputId": "6147d0e0-4d37-463d-e98a-cc8401e8694a"
   },
   "outputs": [
    {
     "name": "stdout",
     "output_type": "stream",
     "text": [
      "WARNING:tensorflow:From /usr/local/lib/python3.6/dist-packages/tensorflow/python/ops/math_ops.py:3066: to_int32 (from tensorflow.python.ops.math_ops) is deprecated and will be removed in a future version.\n",
      "Instructions for updating:\n",
      "Use tf.cast instead.\n",
      "Train on 40000 samples, validate on 10000 samples\n",
      "Epoch 1/20\n",
      "40000/40000 [==============================] - 229s 6ms/step - loss: 1.7927 - acc: 0.3524 - val_loss: 1.4332 - val_acc: 0.4927\n",
      "Epoch 2/20\n",
      "40000/40000 [==============================] - 228s 6ms/step - loss: 1.3444 - acc: 0.5209 - val_loss: 1.2685 - val_acc: 0.5595\n",
      "Epoch 3/20\n",
      "40000/40000 [==============================] - 227s 6ms/step - loss: 1.1395 - acc: 0.5992 - val_loss: 1.0255 - val_acc: 0.6373\n",
      "Epoch 4/20\n",
      "40000/40000 [==============================] - 226s 6ms/step - loss: 0.9946 - acc: 0.6540 - val_loss: 0.9463 - val_acc: 0.6672\n",
      "Epoch 5/20\n",
      "40000/40000 [==============================] - 225s 6ms/step - loss: 0.8944 - acc: 0.6882 - val_loss: 0.8040 - val_acc: 0.7187\n",
      "Epoch 6/20\n",
      "40000/40000 [==============================] - 225s 6ms/step - loss: 0.8139 - acc: 0.7165 - val_loss: 0.7549 - val_acc: 0.7375\n",
      "Epoch 7/20\n",
      "40000/40000 [==============================] - 226s 6ms/step - loss: 0.7525 - acc: 0.7398 - val_loss: 0.7851 - val_acc: 0.7278\n",
      "Epoch 8/20\n",
      "40000/40000 [==============================] - 226s 6ms/step - loss: 0.7058 - acc: 0.7536 - val_loss: 0.7211 - val_acc: 0.7512\n",
      "Epoch 9/20\n",
      "40000/40000 [==============================] - 225s 6ms/step - loss: 0.6663 - acc: 0.7714 - val_loss: 0.7017 - val_acc: 0.7559\n",
      "Epoch 10/20\n",
      "40000/40000 [==============================] - 224s 6ms/step - loss: 0.6326 - acc: 0.7824 - val_loss: 0.6767 - val_acc: 0.7670\n",
      "Epoch 11/20\n",
      "40000/40000 [==============================] - 223s 6ms/step - loss: 0.6062 - acc: 0.7930 - val_loss: 0.6964 - val_acc: 0.7665\n",
      "Epoch 12/20\n",
      "40000/40000 [==============================] - 223s 6ms/step - loss: 0.5817 - acc: 0.8009 - val_loss: 0.7081 - val_acc: 0.7735\n",
      "Epoch 13/20\n",
      "40000/40000 [==============================] - 224s 6ms/step - loss: 0.5668 - acc: 0.8057 - val_loss: 0.6987 - val_acc: 0.7801\n",
      "Epoch 14/20\n",
      "40000/40000 [==============================] - 223s 6ms/step - loss: 0.5536 - acc: 0.8119 - val_loss: 0.6856 - val_acc: 0.7836\n",
      "Epoch 15/20\n",
      "40000/40000 [==============================] - 223s 6ms/step - loss: 0.5417 - acc: 0.8172 - val_loss: 0.7105 - val_acc: 0.7751\n",
      "Epoch 16/20\n",
      "40000/40000 [==============================] - 223s 6ms/step - loss: 0.5333 - acc: 0.8206 - val_loss: 0.6827 - val_acc: 0.7920\n",
      "Epoch 17/20\n",
      "40000/40000 [==============================] - 225s 6ms/step - loss: 0.5283 - acc: 0.8210 - val_loss: 0.6816 - val_acc: 0.7883\n",
      "Epoch 18/20\n",
      "40000/40000 [==============================] - 226s 6ms/step - loss: 0.5224 - acc: 0.8252 - val_loss: 0.8578 - val_acc: 0.7721\n",
      "Epoch 19/20\n",
      "40000/40000 [==============================] - 225s 6ms/step - loss: 0.5238 - acc: 0.8269 - val_loss: 0.8860 - val_acc: 0.7734\n",
      "Epoch 20/20\n",
      "40000/40000 [==============================] - 226s 6ms/step - loss: 0.5177 - acc: 0.8257 - val_loss: 0.6547 - val_acc: 0.7868\n"
     ]
    },
    {
     "ename": "AttributeError",
     "evalue": "ignored",
     "output_type": "error",
     "traceback": [
      "\u001b[0;31m---------------------------------------------------------------------------\u001b[0m",
      "\u001b[0;31mAttributeError\u001b[0m                            Traceback (most recent call last)",
      "\u001b[0;32m<ipython-input-5-6a3cbe361c20>\u001b[0m in \u001b[0;36m<module>\u001b[0;34m()\u001b[0m\n\u001b[1;32m      6\u001b[0m          \u001b[0mvalidation_split\u001b[0m\u001b[0;34m=\u001b[0m\u001b[0;36m0.2\u001b[0m\u001b[0;34m,\u001b[0m\u001b[0;34m\u001b[0m\u001b[0;34m\u001b[0m\u001b[0m\n\u001b[1;32m      7\u001b[0m          verbose =1)\n\u001b[0;32m----> 8\u001b[0;31m score = model.evalulate(X_test,Y_test,\n\u001b[0m\u001b[1;32m      9\u001b[0m                        \u001b[0mbatch_size\u001b[0m\u001b[0;34m=\u001b[0m\u001b[0;36m128\u001b[0m\u001b[0;34m,\u001b[0m\u001b[0;34m\u001b[0m\u001b[0;34m\u001b[0m\u001b[0m\n\u001b[1;32m     10\u001b[0m                        verbose=1)\n",
      "\u001b[0;31mAttributeError\u001b[0m: 'Sequential' object has no attribute 'evalulate'"
     ]
    }
   ],
   "source": [
    "model.compile(loss='categorical_crossentropy',\n",
    "             optimizer=RMSprop(),\n",
    "             metrics=['accuracy'])\n",
    "model.fit(X_train,Y_train,batch_size=128,\n",
    "         epochs=20,\n",
    "         validation_split=0.2,\n",
    "         verbose =1)"
   ]
  },
  {
   "cell_type": "code",
   "execution_count": 7,
   "metadata": {
    "colab": {
     "base_uri": "https://localhost:8080/",
     "height": 34
    },
    "colab_type": "code",
    "id": "HxaWTimfu4ej",
    "outputId": "53e5f3e6-ba98-47fd-f1e7-fc6beee03e38"
   },
   "outputs": [
    {
     "name": "stdout",
     "output_type": "stream",
     "text": [
      "10000/10000 [==============================] - 15s 1ms/step\n"
     ]
    }
   ],
   "source": [
    "score = model.evaluate(X_test,Y_test,\n",
    "                       batch_size=128,\n",
    "                       verbose=1)"
   ]
  },
  {
   "cell_type": "code",
   "execution_count": 9,
   "metadata": {
    "colab": {
     "base_uri": "https://localhost:8080/",
     "height": 34
    },
    "colab_type": "code",
    "id": "6ZDEb69vCIuE",
    "outputId": "7ff2ad79-f344-4ac7-e54c-12d4bd8baaeb"
   },
   "outputs": [
    {
     "name": "stdout",
     "output_type": "stream",
     "text": [
      "[0.6836661932945252, 0.78]\n"
     ]
    }
   ],
   "source": [
    "print(score)"
   ]
  },
  {
   "cell_type": "code",
   "execution_count": 0,
   "metadata": {
    "colab": {},
    "colab_type": "code",
    "id": "JMuI16GqCUQT"
   },
   "outputs": [],
   "source": []
  }
 ],
 "metadata": {
  "colab": {
   "collapsed_sections": [],
   "name": "cifar10.ipynb",
   "provenance": [],
   "version": "0.3.2"
  },
  "kernelspec": {
   "display_name": "Python 2",
   "language": "python",
   "name": "python2"
  },
  "language_info": {
   "codemirror_mode": {
    "name": "ipython",
    "version": 2
   },
   "file_extension": ".py",
   "mimetype": "text/x-python",
   "name": "python",
   "nbconvert_exporter": "python",
   "pygments_lexer": "ipython2",
   "version": "2.7.15rc1"
  }
 },
 "nbformat": 4,
 "nbformat_minor": 1
}
