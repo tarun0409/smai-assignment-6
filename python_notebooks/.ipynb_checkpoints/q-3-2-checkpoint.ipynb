{
 "cells": [
  {
   "cell_type": "code",
   "execution_count": 1,
   "metadata": {},
   "outputs": [
    {
     "name": "stderr",
     "output_type": "stream",
     "text": [
      "Using TensorFlow backend.\n"
     ]
    }
   ],
   "source": [
    "import os\n",
    "import tensorflow as tf\n",
    "import numpy as np\n",
    "from keras.datasets import cifar10"
   ]
  },
  {
   "cell_type": "code",
   "execution_count": 2,
   "metadata": {},
   "outputs": [],
   "source": [
    "class KerasConvNet(tf.keras.Model):\n",
    "    def __init__(self, dim1, dim2, n_classes):\n",
    "        super(KerasConvNet,self).__init__()\n",
    "        init_obj = tf.variance_scaling_initializer(scale=2.0)\n",
    "        self.conv_layer_1 = tf.layers.Conv2D(dim1, [5,5], [1,1], padding='same',\n",
    "                                      kernel_initializer=init_obj,\n",
    "                                      activation=tf.nn.relu)\n",
    "        self.conv_layer_2 = tf.layers.Conv2D(dim2, [3,3], [1,1], padding='same',\n",
    "                                      kernel_initializer=init_obj,\n",
    "                                      activation=tf.nn.relu)\n",
    "        self.dense_layer = tf.layers.Dense(n_classes, kernel_initializer=init_obj)\n",
    "        \n",
    "        \n",
    "    def call(self, X,training=None):\n",
    "        out = None\n",
    "        X = self.conv_layer_1(X)\n",
    "        X = self.conv_layer_2(X)\n",
    "        X = tf.layers.flatten(X)\n",
    "        out = self.dense_layer(X)    \n",
    "        return out"
   ]
  },
  {
   "cell_type": "code",
   "execution_count": 3,
   "metadata": {},
   "outputs": [],
   "source": [
    "def train(model_init_fn, optimizer_init_fn, X_train, y_train):\n",
    "    x = tf.placeholder(tf.float32, [None, 32, 32, 3])\n",
    "    y = tf.placeholder(tf.int32, [None,1])\n",
    "    is_training = tf.placeholder(tf.bool, name='is_training')\n",
    "        \n",
    "    scores = model_init_fn(x, is_training)\n",
    "\n",
    "    loss = tf.nn.softmax_cross_entropy_with_logits(labels=y, logits=scores)\n",
    "    loss = tf.reduce_mean(loss)\n",
    "\n",
    "    optimizer = optimizer_init_fn()\n",
    "    update_ops = tf.get_collection(tf.GraphKeys.UPDATE_OPS)\n",
    "    train_op = optimizer.minimize(loss)\n",
    "            \n",
    "\n",
    "    with tf.Session() as sess:\n",
    "        sess.run(tf.global_variables_initializer())\n",
    "        t = 0\n",
    "        feed_dict = {x: X_train, y: y_train, is_training:1}\n",
    "        loss_np, _ = sess.run([loss, train_op], feed_dict=feed_dict)\n",
    "        print('Loss = %.4f' % (loss_np))"
   ]
  },
  {
   "cell_type": "code",
   "execution_count": 4,
   "metadata": {},
   "outputs": [
    {
     "name": "stdout",
     "output_type": "stream",
     "text": [
      "WARNING:tensorflow:From /home/tarun/.local/lib/python2.7/site-packages/tensorflow/python/ops/resource_variable_ops.py:435: colocate_with (from tensorflow.python.framework.ops) is deprecated and will be removed in a future version.\n",
      "Instructions for updating:\n",
      "Colocations handled automatically by placer.\n",
      "WARNING:tensorflow:From <ipython-input-2-e19494fa8f71>:18: flatten (from tensorflow.python.layers.core) is deprecated and will be removed in a future version.\n",
      "Instructions for updating:\n",
      "Use keras.layers.flatten instead.\n",
      "WARNING:tensorflow:From <ipython-input-3-a64f57f78284>:8: softmax_cross_entropy_with_logits (from tensorflow.python.ops.nn_ops) is deprecated and will be removed in a future version.\n",
      "Instructions for updating:\n",
      "\n",
      "Future major versions of TensorFlow will allow gradients to flow\n",
      "into the labels input on backprop by default.\n",
      "\n",
      "See `tf.nn.softmax_cross_entropy_with_logits_v2`.\n",
      "\n",
      "Loss = 7777.7300\n"
     ]
    }
   ],
   "source": [
    "learning_rate = 0.1\n",
    "channel_1, channel_2, num_classes = 32, 16, 10\n",
    "\n",
    "def model_init_fn(inputs, is_training):\n",
    "    model = None\n",
    "    model = KerasConvNet(channel_1, channel_2, num_classes)\n",
    "    return model(inputs)\n",
    "\n",
    "def optimizer_init_fn():\n",
    "    optimizer = None\n",
    "    optimizer = tf.train.GradientDescentOptimizer(learning_rate)\n",
    "    return optimizer\n",
    "\n",
    "(X_train, y_train), (X_test, y_test) = cifar10.load_data()\n",
    "train(model_init_fn, optimizer_init_fn,X_train[:1000,:,:,:],y_train[:1000,:])\n",
    "\n"
   ]
  },
  {
   "cell_type": "code",
   "execution_count": null,
   "metadata": {},
   "outputs": [],
   "source": []
  },
  {
   "cell_type": "code",
   "execution_count": null,
   "metadata": {},
   "outputs": [],
   "source": []
  }
 ],
 "metadata": {
  "kernelspec": {
   "display_name": "Python 2",
   "language": "python",
   "name": "python2"
  },
  "language_info": {
   "codemirror_mode": {
    "name": "ipython",
    "version": 2
   },
   "file_extension": ".py",
   "mimetype": "text/x-python",
   "name": "python",
   "nbconvert_exporter": "python",
   "pygments_lexer": "ipython2",
   "version": "2.7.15rc1"
  }
 },
 "nbformat": 4,
 "nbformat_minor": 2
}
