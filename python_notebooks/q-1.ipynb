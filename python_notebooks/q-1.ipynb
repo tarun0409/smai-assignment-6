{
 "cells": [
  {
   "cell_type": "code",
   "execution_count": 1,
   "metadata": {},
   "outputs": [],
   "source": [
    "import numpy as np\n",
    "import cv2\n",
    "from matplotlib import pyplot as plt\n",
    "np.random.seed(104729)"
   ]
  },
  {
   "cell_type": "code",
   "execution_count": 2,
   "metadata": {},
   "outputs": [],
   "source": [
    "class CNNModel:\n",
    "    def convolution_layer(self,inp, F, K):\n",
    "        kernels = list()\n",
    "        feature_maps = list()\n",
    "        feature_dim_w = (inp.shape[0] - F ) + 1\n",
    "        feature_dim_h = (inp.shape[1] - F ) + 1\n",
    "        for i in range(0,K):\n",
    "            kernels.append(np.random.rand(F,F,inp.shape[2]))\n",
    "            feature_maps.append(np.zeros((feature_dim_w,feature_dim_h)))\n",
    "    \n",
    "        for d in range(0,K):\n",
    "            start_i = 0\n",
    "            end_i = start_i + kernels[d].shape[0]\n",
    "    \n",
    "            for f_i in range(0,feature_dim_w):\n",
    "                start_j = 0\n",
    "                end_j = start_j + kernels[d].shape[0]\n",
    "                for f_j in range(0, feature_dim_h):\n",
    "                    val = 0\n",
    "                    k_i = 0\n",
    "                    for img_i in range(start_i,end_i):\n",
    "                        k_j = 0\n",
    "                        for img_j in range(start_j, end_j):\n",
    "                            k_k = 0\n",
    "                            for img_k in range(0,inp.shape[2]):\n",
    "                                val +=  inp[img_i][img_j][img_k]*kernels[d][k_i][k_j][k_k]\n",
    "                                k_k += 1\n",
    "                            k_j += 1\n",
    "                        k_i += 1\n",
    "                    feature_maps[d][f_i][f_j] = val\n",
    "                    start_j += 1\n",
    "                    end_j += 1\n",
    "                start_i += 1\n",
    "                end_i += 1\n",
    "    \n",
    "        return feature_maps\n",
    "        \n",
    "    def max_pooling_layer(self,inp,F,S):\n",
    "        out = None\n",
    "        if(len(inp)==0):\n",
    "            return None\n",
    "        out_dim_w = ((inp[0].shape[0] - F)/S) + 1\n",
    "        out_dim_h = ((inp[0].shape[1] - F)/S) + 1\n",
    "            \n",
    "        for conv in inp:\n",
    "            max_pool = np.zeros((out_dim_w,out_dim_h))\n",
    "            start_i = 0\n",
    "            end_i = start_i + F\n",
    "            for m_i in range(0,out_dim_w):\n",
    "                start_j = 0\n",
    "                end_j = start_j + F\n",
    "                for m_j in range(0, out_dim_h):\n",
    "                    val = -np.inf\n",
    "                    for conv_i in range(start_i,end_i):\n",
    "                        for conv_j in range(start_j, end_j):\n",
    "                            if conv[conv_i][conv_j] > val:\n",
    "                                val = conv[conv_i][conv_j]\n",
    "                    max_pool[m_i][m_j] = val\n",
    "                    start_j += S\n",
    "                    end_j += S\n",
    "                start_i += S\n",
    "                end_i += S\n",
    "            if out is None:\n",
    "                out = max_pool\n",
    "            else:\n",
    "                out = np.dstack((out,max_pool))\n",
    "        return out\n",
    "    \n",
    "    def DenseLayer(self,inp,n_neurons):\n",
    "        W = np.random.rand(inp.shape[1],n_neurons)\n",
    "        b = np.random.rand(1,n_neurons)\n",
    "        return np.dot(inp,W) + b\n",
    "    \n",
    "    def ActivationLayer(self,inp,activation_function):\n",
    "        if activation_function == 'relu':\n",
    "            return np.maximum(inp,0)\n",
    "        if activation_function == 'softmax':\n",
    "            z = np.exp(inp - inp.max())\n",
    "            deno = z.sum()\n",
    "            s = np.divide(z,deno)\n",
    "            return s\n",
    "        return inp"
   ]
  },
  {
   "cell_type": "code",
   "execution_count": 3,
   "metadata": {},
   "outputs": [],
   "source": [
    "im = cv2.imread('dog_large.jpg')\n",
    "im = im/255"
   ]
  },
  {
   "cell_type": "code",
   "execution_count": 4,
   "metadata": {},
   "outputs": [
    {
     "data": {
      "image/png": "[encoded data removed]",
      "text/plain": [
       "<matplotlib.figure.Figure at 0x7f933bfc7b10>"
      ]
     },
     "metadata": {
      "needs_background": "light"
     },
     "output_type": "display_data"
    },
    {
     "data": {
      "image/png": "[encoded data removed]",
      "text/plain": [
       "<matplotlib.figure.Figure at 0x7f935b24bed0>"
      ]
     },
     "metadata": {
      "needs_background": "light"
     },
     "output_type": "display_data"
    },
    {
     "data": {
      "image/png": "[encoded data removed]",
      "text/plain": [
       "<matplotlib.figure.Figure at 0x7f931f522c90>"
      ]
     },
     "metadata": {
      "needs_background": "light"
     },
     "output_type": "display_data"
    },
    {
     "data": {
      "image/png": "[encoded data removed]",
      "text/plain": [
       "<matplotlib.figure.Figure at 0x7f931f4677d0>"
      ]
     },
     "metadata": {
      "needs_background": "light"
     },
     "output_type": "display_data"
    },
    {
     "data": {
      "image/png": "[encoded data removed]",
      "text/plain": [
       "<matplotlib.figure.Figure at 0x7f931f3937d0>"
      ]
     },
     "metadata": {
      "needs_background": "light"
     },
     "output_type": "display_data"
    }
   ],
   "source": [
    "model = CNNModel()\n",
    "conv_out1 = model.convolution_layer(im,5,6)\n",
    "\n",
    "plt.imshow(conv_out1[0])\n",
    "plt.show()\n",
    "\n",
    "max_pool_out1 = model.max_pooling_layer(conv_out1,2,2)\n",
    "max_pool_out1 = model.ActivationLayer(max_pool_out1,'relu')\n",
    "\n",
    "plt.imshow(max_pool_out1[:,:,0])\n",
    "plt.show()\n",
    "\n",
    "conv_out2 = model.convolution_layer(max_pool_out1,5,16)\n",
    "\n",
    "plt.imshow(conv_out2[0])\n",
    "plt.show()\n",
    "\n",
    "max_pool_out2 = model.max_pooling_layer(conv_out2,2,2)\n",
    "max_pool_out2 = model.ActivationLayer(max_pool_out2,'relu')\n",
    "\n",
    "plt.imshow(max_pool_out2[:,:,0])\n",
    "plt.show()\n",
    "\n",
    "conv_out3 = model.convolution_layer(max_pool_out2,5,120)\n",
    "\n",
    "plt.imshow(conv_out3[0])\n",
    "plt.show()\n",
    "\n",
    "flat_vec = np.array(conv_out3).flatten()\n",
    "flat_vec = np.reshape(flat_vec,(1,flat_vec.shape[0]))\n",
    "\n",
    "dense2 = model.DenseLayer(flat_vec,84)\n",
    "activation2 = model.ActivationLayer(dense2,'relu')\n",
    "\n",
    "dense3 = model.DenseLayer(activation2,10)\n",
    "\n",
    "output = model.ActivationLayer(dense3,'softmax')"
   ]
  },
  {
   "cell_type": "code",
   "execution_count": 5,
   "metadata": {},
   "outputs": [
    {
     "name": "stdout",
     "output_type": "stream",
     "text": [
      "[[0. 1. 0. 0. 0. 0. 0. 0. 0. 0.]]\n"
     ]
    }
   ],
   "source": [
    "print output"
   ]
  },
  {
   "cell_type": "code",
   "execution_count": null,
   "metadata": {},
   "outputs": [],
   "source": []
  },
  {
   "cell_type": "code",
   "execution_count": null,
   "metadata": {},
   "outputs": [],
   "source": []
  },
  {
   "cell_type": "code",
   "execution_count": null,
   "metadata": {},
   "outputs": [],
   "source": []
  }
 ],
 "metadata": {
  "kernelspec": {
   "display_name": "Python 2",
   "language": "python",
   "name": "python2"
  },
  "language_info": {
   "codemirror_mode": {
    "name": "ipython",
    "version": 2
   },
   "file_extension": ".py",
   "mimetype": "text/x-python",
   "name": "python",
   "nbconvert_exporter": "python",
   "pygments_lexer": "ipython2",
   "version": "2.7.15rc1"
  }
 },
 "nbformat": 4,
 "nbformat_minor": 2
}
