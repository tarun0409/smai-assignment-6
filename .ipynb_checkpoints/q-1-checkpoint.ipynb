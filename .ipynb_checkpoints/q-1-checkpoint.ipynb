{
 "cells": [
  {
   "cell_type": "code",
   "execution_count": 1,
   "metadata": {},
   "outputs": [],
   "source": [
    "import numpy as np\n",
    "import cv2\n",
    "np.random.seed(7)"
   ]
  },
  {
   "cell_type": "code",
   "execution_count": 2,
   "metadata": {},
   "outputs": [],
   "source": [
    "def convolution_layer(inp, F, K, P, S):\n",
    "    kernel = np.random.rand(F,F,inp.shape[2])\n",
    "    feature_dim_w = ((inp.shape[0] - F + (2*P))/S)+ 1\n",
    "    feature_dim_h = ((inp.shape[1] - F + (2*P))/S)+ 1\n",
    "    feature_map = np.zeros((feature_dim_w,feature_dim_h))\n",
    "    \n",
    "    start_i = 0\n",
    "    end_i = start_i + kernel.shape[0]\n",
    "    \n",
    "    for f_i in range(0,feature_dim_w):\n",
    "        start_j = 0\n",
    "        end_j = start_j + kernel.shape[0]\n",
    "        for f_j in range(0, feature_dim_h):\n",
    "            val = 0\n",
    "            k_i = 0\n",
    "            for img_i in range(start_i,end_i):\n",
    "                k_j = 0\n",
    "                for img_j in range(start_j, end_j):\n",
    "                    k_k = 0\n",
    "                    for img_k in range(0,inp.shape[2]):\n",
    "                        val +=  inp[img_i][img_j][img_k]*kernel[k_i][k_j][k_k]\n",
    "                        k_k += 1\n",
    "                    k_j += 1\n",
    "                k_i += 1\n",
    "            feature_map[f_i][f_j] = val\n",
    "            start_j += 1\n",
    "            end_j += 1\n",
    "        start_i += 1\n",
    "        end_i += 1\n",
    "    \n",
    "    print feature_map\n",
    "            \n",
    "            \n",
    "            \n",
    "    "
   ]
  },
  {
   "cell_type": "code",
   "execution_count": 3,
   "metadata": {},
   "outputs": [
    {
     "name": "stdout",
     "output_type": "stream",
     "text": [
      "[[5 4 8 8 9]\n",
      " [7 1 1 7 6]\n",
      " [9 6 1 9 5]\n",
      " [4 9 1 1 7]\n",
      " [8 1 8 1 5]]\n",
      "[[7 4 8 9 8]\n",
      " [5 8 8 4 9]\n",
      " [8 1 3 7 8]\n",
      " [4 4 2 1 8]\n",
      " [4 8 8 6 4]]\n"
     ]
    }
   ],
   "source": [
    "inp = np.random.randint(1,10,(5,5,2))\n",
    "for i in range(0,inp.shape[2]):\n",
    "    print inp[:,:,i]"
   ]
  },
  {
   "cell_type": "code",
   "execution_count": 4,
   "metadata": {},
   "outputs": [
    {
     "name": "stdout",
     "output_type": "stream",
     "text": [
      "[[ 94.  97. 118.]\n",
      " [ 82.  74.  88.]\n",
      " [ 89.  77.  85.]]\n"
     ]
    }
   ],
   "source": [
    "convolution_layer(inp,3,1,0,1)"
   ]
  },
  {
   "cell_type": "code",
   "execution_count": null,
   "metadata": {},
   "outputs": [],
   "source": [
    "im = cv2.imread('dog.jpg')"
   ]
  },
  {
   "cell_type": "code",
   "execution_count": null,
   "metadata": {},
   "outputs": [],
   "source": [
    "\n"
   ]
  },
  {
   "cell_type": "code",
   "execution_count": null,
   "metadata": {},
   "outputs": [],
   "source": []
  },
  {
   "cell_type": "code",
   "execution_count": null,
   "metadata": {},
   "outputs": [],
   "source": []
  }
 ],
 "metadata": {
  "kernelspec": {
   "display_name": "Python 2",
   "language": "python",
   "name": "python2"
  },
  "language_info": {
   "codemirror_mode": {
    "name": "ipython",
    "version": 2
   },
   "file_extension": ".py",
   "mimetype": "text/x-python",
   "name": "python",
   "nbconvert_exporter": "python",
   "pygments_lexer": "ipython2",
   "version": "2.7.15rc1"
  }
 },
 "nbformat": 4,
 "nbformat_minor": 2
}
