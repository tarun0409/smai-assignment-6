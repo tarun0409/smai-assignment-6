{
 "cells": [
  {
   "cell_type": "code",
   "execution_count": 1,
   "metadata": {},
   "outputs": [],
   "source": [
    "import os\n",
    "import tensorflow as tf\n",
    "import numpy as np"
   ]
  },
  {
   "cell_type": "code",
   "execution_count": 2,
   "metadata": {},
   "outputs": [],
   "source": [
    "def convnet(X, conv_layer1_W, conv_layer2_W, conv_layer1_b, conv_layer2_b, dense_layer_W, dense_layer_b):\n",
    "\n",
    "    scores = None\n",
    "    conv_layer1_out = tf.nn.conv2d(X, conv_layer1_W, strides=[1,1,1,1], padding=\"SAME\")\n",
    "    conv_layer1_out += conv_layer1_b\n",
    "    relu_layer1_out = tf.nn.relu(conv_layer1_out)\n",
    "    \n",
    "    conv_layer2_out = tf.nn.conv2d(conv_layer1_out, conv_layer2_W, strides=[1,1,1,1], padding=\"SAME\")\n",
    "    conv_layer2_out += conv_layer2_b\n",
    "    relu_layer2_out = tf.nn.relu(conv_layer2_out)\n",
    "    \n",
    "    #flatten the output from ReLU layer\n",
    "    N = tf.shape(relu_layer2_out)[0]\n",
    "    relu_layer2_out = tf.reshape(relu_layer2_out, (N, -1))\n",
    "    output = tf.matmul(relu_layer2_out, dense_layer_W)\n",
    "    output += dense_layer_b\n",
    "    \n",
    "    return output"
   ]
  },
  {
   "cell_type": "code",
   "execution_count": 3,
   "metadata": {},
   "outputs": [
    {
     "name": "stdout",
     "output_type": "stream",
     "text": [
      "[[ -913.1857    -935.37775    -10.284332 -1890.9523    2498.0596\n",
      "   1966.251     1557.9899     408.61316   1100.5925    1681.2906  ]\n",
      " [-1611.7488   -1042.2484    -438.85104    975.3799    1919.3033\n",
      "    448.5871       9.512104   467.07712   1972.2897     589.5454  ]\n",
      " [-1821.6035   -2781.1895    1331.9039    -575.07855   3617.2083\n",
      "    397.41898    288.49692   1211.4023     391.75143     23.194878]\n",
      " [ -992.8787   -1952.4559     957.1636    -711.3179    1517.5946\n",
      "    206.01433    947.448     -528.5893    1169.3134    1673.8234  ]\n",
      " [ -597.1853   -1279.0258     -22.087772 -1142.0956    2716.2559\n",
      "    641.6833     463.2124     983.8756     333.64935    994.6594  ]\n",
      " [-1834.4362    -878.22064   -515.4224     -32.190502  3296.4912\n",
      "   1170.4009     625.2032     506.7202    2365.552      441.16074 ]\n",
      " [-1130.3396   -1379.5872     980.4668   -1587.5464    2535.7048\n",
      "   2622.0664    1945.6337     666.0269     992.87103   1331.237   ]\n",
      " [ -852.5122   -1872.4362    1680.1792    -868.3488    2276.1917\n",
      "    472.6061     868.5639     296.6249     850.76855   1438.5702  ]\n",
      " [-1471.7656    -801.8319     842.23       892.0163    4271.169\n",
      "    692.94275    941.02673   1099.2821    1955.6188    1222.204   ]\n",
      " [  358.24783  -1009.6818      15.268219 -1024.9702    2350.5322\n",
      "   1185.7645    1507.9747     601.0052    1236.6866      53.344063]]\n"
     ]
    }
   ],
   "source": [
    "X = tf.placeholder(tf.float32)\n",
    "conv_layer1_W = tf.random.normal((5, 5, 3, 6))\n",
    "conv_layer2_W = tf.random.normal((2, 2, 6, 9))\n",
    "conv_layer1_b = tf.random.normal((6,))\n",
    "conv_layer2_b = tf.random.normal((9,))\n",
    "dense_layer_W = tf.random.normal((32 * 32 * 9, 10))\n",
    "dense_layer_b = tf.random.normal((10,))\n",
    "scores = convnet(X, conv_layer1_W, conv_layer2_W, conv_layer1_b, conv_layer2_b, dense_layer_W, dense_layer_b)\n",
    "\n",
    "X_np = np.random.rand(10, 32, 32, 3)\n",
    "    \n",
    "with tf.Session() as sess:\n",
    "    sess.run(tf.global_variables_initializer())\n",
    "    scores_np = sess.run(scores, feed_dict={X: X_np})\n",
    "    print(scores_np)"
   ]
  },
  {
   "cell_type": "code",
   "execution_count": null,
   "metadata": {},
   "outputs": [],
   "source": []
  }
 ],
 "metadata": {
  "kernelspec": {
   "display_name": "Python 2",
   "language": "python",
   "name": "python2"
  },
  "language_info": {
   "codemirror_mode": {
    "name": "ipython",
    "version": 2
   },
   "file_extension": ".py",
   "mimetype": "text/x-python",
   "name": "python",
   "nbconvert_exporter": "python",
   "pygments_lexer": "ipython2",
   "version": "2.7.15rc1"
  }
 },
 "nbformat": 4,
 "nbformat_minor": 2
}
